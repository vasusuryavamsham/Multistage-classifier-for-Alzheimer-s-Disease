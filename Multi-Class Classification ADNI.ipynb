{
 "cells": [
  {
   "cell_type": "markdown",
   "metadata": {},
   "source": [
    "# Alzheimer's Prediction (Multi-Class) \n",
    "* See [Alzheimer's Prediction](https://github.com/grantgasser/Alzheimers-Prediction) for a summary of this project"
   ]
  },
  {
   "cell_type": "markdown",
   "metadata": {},
   "source": [
    "### Variable Descriptions\n",
    "* `directory.id`\tId assigned to imaging directories. Not from LONi data\n",
    "* `Subject (PTID)`\tParticipant ID\n",
    "* `RID`\tParticipant roster ID\n",
    "* `Image.Data.ID`\tMRI ID\n",
    "* `Modality`\tImage type\n",
    "* `Visit`\t1=screening scan\n",
    "* `Acq.Date`\tMRI date\n",
    "* `DX.bl`\tDiagnosis at baseline\n",
    "* `EXAMDATE`\tExamination Date\n",
    "* `AGE`\t    Age at baseline\n",
    "* `PTGENDER`\tSex\n",
    "* `PTEDUCAT`\tYears of Education\n",
    "* `PTETHCAT`\tEthnicity\n",
    "* `PTRACCAT`\tRace\n",
    "* `APOE4`\tAPOE4 genotype\n",
    "* `MMSE`\tMMSE score on cognitive test\n",
    "* `imputed_genotype`\tChallenge specific designation, TRUE=has imputed genotypes\n",
    "* `APOE Genotype`\tAPOE allele 1 and allele 2 genotypes\n",
    "* `Dx Codes for Submission`\tThe LMCI in the ADNI data is equivalent to MCI in test. This column just converts LMCI->MCI"
   ]
  },
  {
   "cell_type": "markdown",
   "metadata": {},
   "source": [
    "# Note: This notebook is being refactored\n",
    "* More EDA\n",
    "* Proper train/test split \n",
    "* Use **AUC** as main metric for evaluation as well as **Accuracy**"
   ]
  },
  {
   "cell_type": "code",
   "execution_count": 68,
   "metadata": {},
   "outputs": [],
   "source": [
    "import numpy as np\n",
    "import sklearn as sk\n",
    "import pandas as pd\n",
    "import os"
   ]
  },
  {
   "cell_type": "code",
   "execution_count": 69,
   "metadata": {},
   "outputs": [],
   "source": [
    "#Read data\n",
    "dat = pd.read_csv('ADNI_Training_Q3_APOE_CollectionADNI1Complete 1Yr 1.5T_July22.2014.csv')\n",
    "\n",
    "#Check NA values, 1 NA for imputed_genotype\n",
    "# dat.isnull().sum()"
   ]
  },
  {
   "cell_type": "markdown",
   "metadata": {},
   "source": [
    "### Remove NA"
   ]
  },
  {
   "cell_type": "code",
   "execution_count": 70,
   "metadata": {},
   "outputs": [
    {
     "data": {
      "text/plain": [
       "0"
      ]
     },
     "execution_count": 70,
     "metadata": {},
     "output_type": "execute_result"
    }
   ],
   "source": [
    "dat = dat.dropna()\n",
    "dat.isnull().sum().sum()"
   ]
  },
  {
   "cell_type": "code",
   "execution_count": 71,
   "metadata": {},
   "outputs": [
    {
     "data": {
      "text/html": [
       "<div>\n",
       "<style scoped>\n",
       "    .dataframe tbody tr th:only-of-type {\n",
       "        vertical-align: middle;\n",
       "    }\n",
       "\n",
       "    .dataframe tbody tr th {\n",
       "        vertical-align: top;\n",
       "    }\n",
       "\n",
       "    .dataframe thead th {\n",
       "        text-align: right;\n",
       "    }\n",
       "</style>\n",
       "<table border=\"1\" class=\"dataframe\">\n",
       "  <thead>\n",
       "    <tr style=\"text-align: right;\">\n",
       "      <th></th>\n",
       "      <th>directory.id</th>\n",
       "      <th>Subject</th>\n",
       "      <th>RID</th>\n",
       "      <th>Image.Data.ID</th>\n",
       "      <th>Modality</th>\n",
       "      <th>Visit</th>\n",
       "      <th>Acq.Date</th>\n",
       "      <th>DX.bl</th>\n",
       "      <th>EXAMDATE</th>\n",
       "      <th>AGE</th>\n",
       "      <th>PTGENDER</th>\n",
       "      <th>PTEDUCAT</th>\n",
       "      <th>PTETHCAT</th>\n",
       "      <th>PTRACCAT</th>\n",
       "      <th>APOE4</th>\n",
       "      <th>MMSE</th>\n",
       "      <th>imputed_genotype</th>\n",
       "      <th>APOE Genotype</th>\n",
       "      <th>Dx Codes for Submission</th>\n",
       "    </tr>\n",
       "  </thead>\n",
       "  <tbody>\n",
       "    <tr>\n",
       "      <th>0</th>\n",
       "      <td>4702245ea294ce5d4e9b8a87027dfdf4</td>\n",
       "      <td>011_S_0003</td>\n",
       "      <td>3</td>\n",
       "      <td>32237</td>\n",
       "      <td>MRI</td>\n",
       "      <td>1</td>\n",
       "      <td>09-01-2005</td>\n",
       "      <td>AD</td>\n",
       "      <td>09-12-2005</td>\n",
       "      <td>81.3</td>\n",
       "      <td>Male</td>\n",
       "      <td>18</td>\n",
       "      <td>Not Hisp/Latino</td>\n",
       "      <td>White</td>\n",
       "      <td>1</td>\n",
       "      <td>20</td>\n",
       "      <td>True</td>\n",
       "      <td>3,4</td>\n",
       "      <td>AD</td>\n",
       "    </tr>\n",
       "    <tr>\n",
       "      <th>1</th>\n",
       "      <td>2e89e352af743597b2368c412e0f6de2</td>\n",
       "      <td>022_S_0004</td>\n",
       "      <td>4</td>\n",
       "      <td>64631</td>\n",
       "      <td>MRI</td>\n",
       "      <td>1</td>\n",
       "      <td>9/22/05</td>\n",
       "      <td>LMCI</td>\n",
       "      <td>11-08-2005</td>\n",
       "      <td>67.5</td>\n",
       "      <td>Male</td>\n",
       "      <td>10</td>\n",
       "      <td>Hisp/Latino</td>\n",
       "      <td>White</td>\n",
       "      <td>0</td>\n",
       "      <td>27</td>\n",
       "      <td>False</td>\n",
       "      <td>3,3</td>\n",
       "      <td>MCI</td>\n",
       "    </tr>\n",
       "    <tr>\n",
       "      <th>2</th>\n",
       "      <td>90419199306997753de8042f1fd55e38</td>\n",
       "      <td>011_S_0005</td>\n",
       "      <td>5</td>\n",
       "      <td>32246</td>\n",
       "      <td>MRI</td>\n",
       "      <td>1</td>\n",
       "      <td>09-02-2005</td>\n",
       "      <td>CN</td>\n",
       "      <td>09-07-2005</td>\n",
       "      <td>73.7</td>\n",
       "      <td>Male</td>\n",
       "      <td>16</td>\n",
       "      <td>Not Hisp/Latino</td>\n",
       "      <td>White</td>\n",
       "      <td>0</td>\n",
       "      <td>29</td>\n",
       "      <td>True</td>\n",
       "      <td>3,3</td>\n",
       "      <td>CN</td>\n",
       "    </tr>\n",
       "  </tbody>\n",
       "</table>\n",
       "</div>"
      ],
      "text/plain": [
       "                       directory.id     Subject  RID  Image.Data.ID Modality  \\\n",
       "0  4702245ea294ce5d4e9b8a87027dfdf4  011_S_0003    3          32237      MRI   \n",
       "1  2e89e352af743597b2368c412e0f6de2  022_S_0004    4          64631      MRI   \n",
       "2  90419199306997753de8042f1fd55e38  011_S_0005    5          32246      MRI   \n",
       "\n",
       "   Visit    Acq.Date DX.bl    EXAMDATE   AGE PTGENDER  PTEDUCAT  \\\n",
       "0      1  09-01-2005    AD  09-12-2005  81.3     Male        18   \n",
       "1      1     9/22/05  LMCI  11-08-2005  67.5     Male        10   \n",
       "2      1  09-02-2005    CN  09-07-2005  73.7     Male        16   \n",
       "\n",
       "          PTETHCAT PTRACCAT  APOE4  MMSE imputed_genotype APOE Genotype  \\\n",
       "0  Not Hisp/Latino    White      1    20             True           3,4   \n",
       "1      Hisp/Latino    White      0    27            False           3,3   \n",
       "2  Not Hisp/Latino    White      0    29             True           3,3   \n",
       "\n",
       "  Dx Codes for Submission  \n",
       "0                      AD  \n",
       "1                     MCI  \n",
       "2                      CN  "
      ]
     },
     "execution_count": 71,
     "metadata": {},
     "output_type": "execute_result"
    }
   ],
   "source": [
    "#Peek at data\n",
    "dat.head(3)"
   ]
  },
  {
   "cell_type": "markdown",
   "metadata": {},
   "source": [
    "### Remove ID's and other features"
   ]
  },
  {
   "cell_type": "code",
   "execution_count": 72,
   "metadata": {},
   "outputs": [
    {
     "name": "stdout",
     "output_type": "stream",
     "text": [
      "Removing columns: ['directory.id', 'Subject', 'RID', 'Image.Data.ID', 'Modality', 'Visit', 'Acq.Date', 'DX.bl', 'EXAMDATE', 'Dx Codes for Submission']\n"
     ]
    },
    {
     "data": {
      "text/html": [
       "<div>\n",
       "<style scoped>\n",
       "    .dataframe tbody tr th:only-of-type {\n",
       "        vertical-align: middle;\n",
       "    }\n",
       "\n",
       "    .dataframe tbody tr th {\n",
       "        vertical-align: top;\n",
       "    }\n",
       "\n",
       "    .dataframe thead th {\n",
       "        text-align: right;\n",
       "    }\n",
       "</style>\n",
       "<table border=\"1\" class=\"dataframe\">\n",
       "  <thead>\n",
       "    <tr style=\"text-align: right;\">\n",
       "      <th></th>\n",
       "      <th>AGE</th>\n",
       "      <th>PTGENDER</th>\n",
       "      <th>PTEDUCAT</th>\n",
       "      <th>PTETHCAT</th>\n",
       "      <th>PTRACCAT</th>\n",
       "      <th>APOE4</th>\n",
       "      <th>MMSE</th>\n",
       "      <th>imputed_genotype</th>\n",
       "      <th>APOE Genotype</th>\n",
       "    </tr>\n",
       "  </thead>\n",
       "  <tbody>\n",
       "    <tr>\n",
       "      <th>0</th>\n",
       "      <td>81.3</td>\n",
       "      <td>Male</td>\n",
       "      <td>18</td>\n",
       "      <td>Not Hisp/Latino</td>\n",
       "      <td>White</td>\n",
       "      <td>1</td>\n",
       "      <td>20</td>\n",
       "      <td>True</td>\n",
       "      <td>3,4</td>\n",
       "    </tr>\n",
       "    <tr>\n",
       "      <th>1</th>\n",
       "      <td>67.5</td>\n",
       "      <td>Male</td>\n",
       "      <td>10</td>\n",
       "      <td>Hisp/Latino</td>\n",
       "      <td>White</td>\n",
       "      <td>0</td>\n",
       "      <td>27</td>\n",
       "      <td>False</td>\n",
       "      <td>3,3</td>\n",
       "    </tr>\n",
       "    <tr>\n",
       "      <th>2</th>\n",
       "      <td>73.7</td>\n",
       "      <td>Male</td>\n",
       "      <td>16</td>\n",
       "      <td>Not Hisp/Latino</td>\n",
       "      <td>White</td>\n",
       "      <td>0</td>\n",
       "      <td>29</td>\n",
       "      <td>True</td>\n",
       "      <td>3,3</td>\n",
       "    </tr>\n",
       "    <tr>\n",
       "      <th>3</th>\n",
       "      <td>80.4</td>\n",
       "      <td>Female</td>\n",
       "      <td>13</td>\n",
       "      <td>Not Hisp/Latino</td>\n",
       "      <td>White</td>\n",
       "      <td>0</td>\n",
       "      <td>25</td>\n",
       "      <td>True</td>\n",
       "      <td>3,3</td>\n",
       "    </tr>\n",
       "    <tr>\n",
       "      <th>4</th>\n",
       "      <td>73.9</td>\n",
       "      <td>Female</td>\n",
       "      <td>12</td>\n",
       "      <td>Not Hisp/Latino</td>\n",
       "      <td>White</td>\n",
       "      <td>1</td>\n",
       "      <td>24</td>\n",
       "      <td>True</td>\n",
       "      <td>3,4</td>\n",
       "    </tr>\n",
       "  </tbody>\n",
       "</table>\n",
       "</div>"
      ],
      "text/plain": [
       "    AGE PTGENDER  PTEDUCAT         PTETHCAT PTRACCAT  APOE4  MMSE  \\\n",
       "0  81.3     Male        18  Not Hisp/Latino    White      1    20   \n",
       "1  67.5     Male        10      Hisp/Latino    White      0    27   \n",
       "2  73.7     Male        16  Not Hisp/Latino    White      0    29   \n",
       "3  80.4   Female        13  Not Hisp/Latino    White      0    25   \n",
       "4  73.9   Female        12  Not Hisp/Latino    White      1    24   \n",
       "\n",
       "  imputed_genotype APOE Genotype  \n",
       "0             True           3,4  \n",
       "1            False           3,3  \n",
       "2             True           3,3  \n",
       "3             True           3,3  \n",
       "4             True           3,4  "
      ]
     },
     "execution_count": 72,
     "metadata": {},
     "output_type": "execute_result"
    }
   ],
   "source": [
    "X = dat\n",
    "Y = dat['DX.bl']\n",
    "del dat\n",
    "\n",
    "#Remove unnecessary columns (features), remove first 9 columns and 'Dx codes for submission'\n",
    "remove_columns = list(X.columns)[0:9]\n",
    "remove_columns.append('Dx Codes for Submission')\n",
    "print('Removing columns:', remove_columns)\n",
    "\n",
    "X = X.drop(remove_columns, axis=1)\n",
    "\n",
    "features = list(X.columns)\n",
    "X.columns = X.columns.astype(str)\n",
    "X.head(5)"
   ]
  },
  {
   "cell_type": "code",
   "execution_count": 73,
   "metadata": {},
   "outputs": [
    {
     "name": "stdout",
     "output_type": "stream",
     "text": [
      "<class 'pandas.core.frame.DataFrame'>\n",
      "Index: 627 entries, 0 to 627\n",
      "Data columns (total 9 columns):\n",
      " #   Column            Non-Null Count  Dtype \n",
      "---  ------            --------------  ----- \n",
      " 0   AGE               627 non-null    object\n",
      " 1   PTGENDER          627 non-null    object\n",
      " 2   PTEDUCAT          627 non-null    object\n",
      " 3   PTETHCAT          627 non-null    object\n",
      " 4   PTRACCAT          627 non-null    object\n",
      " 5   APOE4             627 non-null    object\n",
      " 6   MMSE              627 non-null    object\n",
      " 7   imputed_genotype  627 non-null    object\n",
      " 8   APOE Genotype     627 non-null    object\n",
      "dtypes: object(9)\n",
      "memory usage: 49.0+ KB\n"
     ]
    }
   ],
   "source": [
    "X = X[X.columns].map(str)\n",
    "# X.columns = X.columns.astype('string')\n",
    "X.info()"
   ]
  },
  {
   "cell_type": "markdown",
   "metadata": {},
   "source": [
    "## Exploratory Data Analysis (EDA)"
   ]
  },
  {
   "cell_type": "code",
   "execution_count": 74,
   "metadata": {},
   "outputs": [
    {
     "name": "stdout",
     "output_type": "stream",
     "text": [
      "Categorical variable distributions:\n",
      "\n",
      "\n",
      "Distribution of imputed_genotype\n",
      "imputed_genotype\n",
      "True     466\n",
      "False    161\n",
      "Name: count, dtype: int64\n",
      "\n",
      "Distribution of APOE Genotype\n",
      "APOE Genotype\n",
      "3,3    275\n",
      "3,4    221\n",
      "4,4     71\n",
      "2,3     45\n",
      "2,4     13\n",
      "2,2      2\n",
      "Name: count, dtype: int64\n",
      "\n",
      "Distribution of PTRACCAT\n",
      "PTRACCAT\n",
      "White    583\n",
      "Black     31\n",
      "Asian     13\n",
      "Name: count, dtype: int64\n",
      "\n",
      "Distribution of PTETHCAT\n",
      "PTETHCAT\n",
      "Not Hisp/Latino    616\n",
      "Hisp/Latino          8\n",
      "Unknown              3\n",
      "Name: count, dtype: int64\n",
      "\n",
      "Distribution of PTGENDER\n",
      "PTGENDER\n",
      "Male      363\n",
      "Female    264\n",
      "Name: count, dtype: int64\n",
      "\n",
      "Distribution of APOE4\n",
      "APOE4\n",
      "0    322\n",
      "1    234\n",
      "2     71\n",
      "Name: count, dtype: int64\n"
     ]
    }
   ],
   "source": [
    "numerical_vars = ['AGE', 'MMSE', 'PTEDUCAT']\n",
    "cat_vars = list(set(features) - set(numerical_vars))\n",
    "\n",
    "print('Categorical variable distributions:\\n')\n",
    "\n",
    "for var in cat_vars:\n",
    "    print('\\nDistribution of', var)\n",
    "    \n",
    "    print(X[var].value_counts())"
   ]
  },
  {
   "cell_type": "markdown",
   "metadata": {},
   "source": [
    "#### Categorical Var Distribution Notes\n",
    "* Ethnicity and Race are separate vars\n",
    "* Distribution of Hispanic, Black, White, Asian not quite same as overall American ethnic/racial distribution\n",
    "* APOE Genotype with 3 in the first spot seems to be overwhelming majority `3,3` and `3,4`\n",
    "* More males in study than females"
   ]
  },
  {
   "cell_type": "markdown",
   "metadata": {},
   "source": [
    "### Numerical Variable Distributions\n",
    "* All 3 distributions seem a bit right-skewed\n",
    "* **Age**: `mean = 75`, `min=55`, `max=89` - seems to be no obvious bad data\n",
    "* **MMSE**: `mean = 26.9`, `min=20`, `max=30` - seems to be no obvious bad data, NOTE: MMSE $\\in ~(0,30)$\n",
    "* **PTEDUCAT**: `mean = 15.6`, `min=6`, `max=20` - seems to be no obvious bad data. 13-14 yrs is probably high school/GED and 17-18 years is likely Bachelor's degree"
   ]
  },
  {
   "cell_type": "code",
   "execution_count": 75,
   "metadata": {},
   "outputs": [
    {
     "name": "stdout",
     "output_type": "stream",
     "text": [
      "Numerical Var Distributions:\n",
      "\n"
     ]
    },
    {
     "data": {
      "image/png": "[encoded data removed]",
      "text/plain": [
       "<Figure size 640x480 with 1 Axes>"
      ]
     },
     "metadata": {},
     "output_type": "display_data"
    },
    {
     "name": "stdout",
     "output_type": "stream",
     "text": [
      "count      627\n",
      "unique     243\n",
      "top       70.6\n",
      "freq         9\n",
      "Name: AGE, dtype: object\n"
     ]
    },
    {
     "data": {
      "image/png": "[encoded data removed]",
      "text/plain": [
       "<Figure size 640x480 with 1 Axes>"
      ]
     },
     "metadata": {},
     "output_type": "display_data"
    },
    {
     "name": "stdout",
     "output_type": "stream",
     "text": [
      "count     627\n",
      "unique     11\n",
      "top        29\n",
      "freq      112\n",
      "Name: MMSE, dtype: object\n"
     ]
    },
    {
     "data": {
      "image/png": "[encoded data removed]",
      "text/plain": [
       "<Figure size 640x480 with 1 Axes>"
      ]
     },
     "metadata": {},
     "output_type": "display_data"
    },
    {
     "name": "stdout",
     "output_type": "stream",
     "text": [
      "count     627\n",
      "unique     15\n",
      "top        16\n",
      "freq      156\n",
      "Name: PTEDUCAT, dtype: object\n"
     ]
    }
   ],
   "source": [
    "from matplotlib import pyplot as plt\n",
    "%matplotlib inline\n",
    "\n",
    "print('Numerical Var Distributions:\\n')\n",
    "\n",
    "for var in numerical_vars:\n",
    "    plt.hist(X[var], bins=10)\n",
    "    plt.title(var + ' Distribution')\n",
    "    plt.show()\n",
    "    \n",
    "    # descriptive stats\n",
    "    print(X[var].describe())"
   ]
  },
  {
   "cell_type": "markdown",
   "metadata": {},
   "source": [
    "### Analyze target (y) distribution\n",
    "* High number (304) of limited impairment (LMCI). Maybe old age? Or the patients being evaluated are not random elderly patients but patients already known to have cognitive issues."
   ]
  },
  {
   "cell_type": "code",
   "execution_count": 76,
   "metadata": {},
   "outputs": [
    {
     "data": {
      "image/png": "[encoded data removed]",
      "text/plain": [
       "<Figure size 640x480 with 1 Axes>"
      ]
     },
     "metadata": {},
     "output_type": "display_data"
    }
   ],
   "source": [
    "plt.bar(Y.value_counts().index, Y.value_counts())\n",
    "plt.show()"
   ]
  },
  {
   "cell_type": "markdown",
   "metadata": {},
   "source": [
    "## Pre-processing"
   ]
  },
  {
   "cell_type": "markdown",
   "metadata": {},
   "source": [
    "### Convert Categorical Variables to 1-Hot\n",
    "* Next time use `sklearn.preprocessing.OneHotEncoder`"
   ]
  },
  {
   "cell_type": "code",
   "execution_count": 77,
   "metadata": {},
   "outputs": [
    {
     "name": "stdout",
     "output_type": "stream",
     "text": [
      "Converting imputed_genotype to 1-hot encoding\n",
      "Converting APOE Genotype to 1-hot encoding\n",
      "Converting PTRACCAT to 1-hot encoding\n",
      "Converting PTETHCAT to 1-hot encoding\n",
      "Converting PTGENDER to 1-hot encoding\n",
      "Converting APOE4 to 1-hot encoding\n"
     ]
    },
    {
     "data": {
      "text/html": [
       "<div>\n",
       "<style scoped>\n",
       "    .dataframe tbody tr th:only-of-type {\n",
       "        vertical-align: middle;\n",
       "    }\n",
       "\n",
       "    .dataframe tbody tr th {\n",
       "        vertical-align: top;\n",
       "    }\n",
       "\n",
       "    .dataframe thead th {\n",
       "        text-align: right;\n",
       "    }\n",
       "</style>\n",
       "<table border=\"1\" class=\"dataframe\">\n",
       "  <thead>\n",
       "    <tr style=\"text-align: right;\">\n",
       "      <th></th>\n",
       "      <th>AGE</th>\n",
       "      <th>PTEDUCAT</th>\n",
       "      <th>MMSE</th>\n",
       "      <th>False</th>\n",
       "      <th>True</th>\n",
       "      <th>2,2</th>\n",
       "      <th>2,3</th>\n",
       "      <th>2,4</th>\n",
       "      <th>3,3</th>\n",
       "      <th>3,4</th>\n",
       "      <th>...</th>\n",
       "      <th>Black</th>\n",
       "      <th>White</th>\n",
       "      <th>Hisp/Latino</th>\n",
       "      <th>Not Hisp/Latino</th>\n",
       "      <th>Unknown</th>\n",
       "      <th>Female</th>\n",
       "      <th>Male</th>\n",
       "      <th>0</th>\n",
       "      <th>1</th>\n",
       "      <th>2</th>\n",
       "    </tr>\n",
       "  </thead>\n",
       "  <tbody>\n",
       "    <tr>\n",
       "      <th>0</th>\n",
       "      <td>81.3</td>\n",
       "      <td>18</td>\n",
       "      <td>20</td>\n",
       "      <td>False</td>\n",
       "      <td>True</td>\n",
       "      <td>False</td>\n",
       "      <td>False</td>\n",
       "      <td>False</td>\n",
       "      <td>False</td>\n",
       "      <td>True</td>\n",
       "      <td>...</td>\n",
       "      <td>False</td>\n",
       "      <td>True</td>\n",
       "      <td>False</td>\n",
       "      <td>True</td>\n",
       "      <td>False</td>\n",
       "      <td>False</td>\n",
       "      <td>True</td>\n",
       "      <td>False</td>\n",
       "      <td>True</td>\n",
       "      <td>False</td>\n",
       "    </tr>\n",
       "    <tr>\n",
       "      <th>1</th>\n",
       "      <td>67.5</td>\n",
       "      <td>10</td>\n",
       "      <td>27</td>\n",
       "      <td>True</td>\n",
       "      <td>False</td>\n",
       "      <td>False</td>\n",
       "      <td>False</td>\n",
       "      <td>False</td>\n",
       "      <td>True</td>\n",
       "      <td>False</td>\n",
       "      <td>...</td>\n",
       "      <td>False</td>\n",
       "      <td>True</td>\n",
       "      <td>True</td>\n",
       "      <td>False</td>\n",
       "      <td>False</td>\n",
       "      <td>False</td>\n",
       "      <td>True</td>\n",
       "      <td>True</td>\n",
       "      <td>False</td>\n",
       "      <td>False</td>\n",
       "    </tr>\n",
       "    <tr>\n",
       "      <th>2</th>\n",
       "      <td>73.7</td>\n",
       "      <td>16</td>\n",
       "      <td>29</td>\n",
       "      <td>False</td>\n",
       "      <td>True</td>\n",
       "      <td>False</td>\n",
       "      <td>False</td>\n",
       "      <td>False</td>\n",
       "      <td>True</td>\n",
       "      <td>False</td>\n",
       "      <td>...</td>\n",
       "      <td>False</td>\n",
       "      <td>True</td>\n",
       "      <td>False</td>\n",
       "      <td>True</td>\n",
       "      <td>False</td>\n",
       "      <td>False</td>\n",
       "      <td>True</td>\n",
       "      <td>True</td>\n",
       "      <td>False</td>\n",
       "      <td>False</td>\n",
       "    </tr>\n",
       "    <tr>\n",
       "      <th>3</th>\n",
       "      <td>80.4</td>\n",
       "      <td>13</td>\n",
       "      <td>25</td>\n",
       "      <td>False</td>\n",
       "      <td>True</td>\n",
       "      <td>False</td>\n",
       "      <td>False</td>\n",
       "      <td>False</td>\n",
       "      <td>True</td>\n",
       "      <td>False</td>\n",
       "      <td>...</td>\n",
       "      <td>False</td>\n",
       "      <td>True</td>\n",
       "      <td>False</td>\n",
       "      <td>True</td>\n",
       "      <td>False</td>\n",
       "      <td>True</td>\n",
       "      <td>False</td>\n",
       "      <td>True</td>\n",
       "      <td>False</td>\n",
       "      <td>False</td>\n",
       "    </tr>\n",
       "  </tbody>\n",
       "</table>\n",
       "<p>4 rows × 22 columns</p>\n",
       "</div>"
      ],
      "text/plain": [
       "    AGE PTEDUCAT MMSE  False   True    2,2    2,3    2,4    3,3    3,4  ...  \\\n",
       "0  81.3       18   20  False   True  False  False  False  False   True  ...   \n",
       "1  67.5       10   27   True  False  False  False  False   True  False  ...   \n",
       "2  73.7       16   29  False   True  False  False  False   True  False  ...   \n",
       "3  80.4       13   25  False   True  False  False  False   True  False  ...   \n",
       "\n",
       "   Black  White  Hisp/Latino  Not Hisp/Latino  Unknown  Female   Male      0  \\\n",
       "0  False   True        False             True    False   False   True  False   \n",
       "1  False   True         True            False    False   False   True   True   \n",
       "2  False   True        False             True    False   False   True   True   \n",
       "3  False   True        False             True    False    True  False   True   \n",
       "\n",
       "       1      2  \n",
       "0   True  False  \n",
       "1  False  False  \n",
       "2  False  False  \n",
       "3  False  False  \n",
       "\n",
       "[4 rows x 22 columns]"
      ]
     },
     "execution_count": 77,
     "metadata": {},
     "output_type": "execute_result"
    }
   ],
   "source": [
    "#for each categorical var, convert to 1-hot encoding\n",
    "for var in cat_vars:\n",
    "    print('Converting', var, 'to 1-hot encoding')\n",
    "    \n",
    "    #get 1-hot and replace original column with the >= 2 categories as columns\n",
    "    one_hot_df = pd.get_dummies(X[var])\n",
    "    X = pd.concat([X, one_hot_df], axis=1)\n",
    "    X = X.drop(var, axis=1)\n",
    "    \n",
    "X.head(4)"
   ]
  },
  {
   "cell_type": "markdown",
   "metadata": {},
   "source": [
    "### Remember:\n",
    "* PTGENDER: (Male, Female)\n",
    "* PTETHCAT: (Hisp/Latino, Not Hisp/Latino, Unknown)\n",
    "* PTRACCAT: (White, Black, Asian)\n",
    "* APOE4: (0, 1, 2)\n",
    "* APOE4 Genotype: (22, 23, 24, 33, 34, 44)\n",
    "* imputed_genotype (True, False)"
   ]
  },
  {
   "cell_type": "markdown",
   "metadata": {},
   "source": [
    "### Normalization code if necessary (for neural network)\n",
    "* Could also use from `sklearn.preprocessing` `StandardScaler` or `Normalizer` or `MinMaxScaler`"
   ]
  },
  {
   "cell_type": "code",
   "execution_count": 78,
   "metadata": {},
   "outputs": [],
   "source": [
    "def normalize(X):\n",
    "    \"\"\"\n",
    "    Normalize numerical variables for faster and better convergence\n",
    "    \n",
    "    Args:\n",
    "        X (pd.DataFrame): data\n",
    "        \n",
    "    Returns:\n",
    "        X (numpy array): same data but with normalized numerical features\n",
    "    \"\"\"\n",
    "\n",
    "    #Convert to numpy array\n",
    "    X = np.array(X)\n",
    "    sanity_check = 0\n",
    "\n",
    "    #Normalize numerical variables to speed up convergence\n",
    "    for i in range(3):\n",
    "        mean = np.mean(X[:, i])\n",
    "        sd = np.std(X[:, i])\n",
    "        print('\\nNormalizing', numerical_vars[i], 'with mean=', format(mean, '.2f'), 'and sd=', format(sd, '.2f'))\n",
    "\n",
    "        X[:, i] = (X[:, i] - mean) / sd\n",
    "        sanity_check += np.mean(X[:, i])\n",
    "\n",
    "    print('\\nSanity Check. Sum of all the means should be near 0:', sanity_check)\n",
    "\n",
    "    # X.columns = X.columns.astype(str)\n",
    "\n",
    "    return X"
   ]
  },
  {
   "cell_type": "markdown",
   "metadata": {},
   "source": [
    "## Train/Test Split\n",
    "* `X_train` and `y_train` will further split into train/valid splits using K-fold CV\n",
    "* `X_test` and `y_test` will be held out"
   ]
  },
  {
   "cell_type": "code",
   "execution_count": 79,
   "metadata": {},
   "outputs": [
    {
     "name": "stdout",
     "output_type": "stream",
     "text": [
      "X_train: (501, 22) \ty_train: (501,)\n",
      "X_test: (126, 22) \ty_test: (126,)\n"
     ]
    }
   ],
   "source": [
    "from sklearn.model_selection import train_test_split\n",
    "\n",
    "X_train, X_test, y_train, y_test = train_test_split(X, Y, test_size=.2)\n",
    "\n",
    "print('X_train:', X_train.shape, '\\ty_train:', y_train.shape)\n",
    "print('X_test:', X_test.shape, '\\ty_test:', y_test.shape)\n",
    "num_test = X_test.shape[0]"
   ]
  },
  {
   "cell_type": "markdown",
   "metadata": {},
   "source": [
    "## Logistic Regression, Random Forest, KNN, MLP"
   ]
  },
  {
   "cell_type": "code",
   "execution_count": 80,
   "metadata": {},
   "outputs": [],
   "source": [
    "from sklearn.linear_model import LogisticRegression\n",
    "from sklearn.ensemble import RandomForestClassifier\n",
    "from sklearn.neighbors import KNeighborsClassifier\n",
    "from sklearn.neural_network import MLPClassifier\n",
    "\n",
    "from sklearn.model_selection import cross_val_score"
   ]
  },
  {
   "cell_type": "code",
   "execution_count": 81,
   "metadata": {},
   "outputs": [
    {
     "name": "stdout",
     "output_type": "stream",
     "text": [
      "Validation Accuracy =  69.27%\n"
     ]
    }
   ],
   "source": [
    "log_clf = LogisticRegression(solver='lbfgs', penalty='l2', max_iter=1000000, multi_class='multinomial')\n",
    "print('Validation Accuracy = ', format(cross_val_score(log_clf, X_train, y_train, cv=5).mean(), '.2%'))"
   ]
  },
  {
   "cell_type": "code",
   "execution_count": 82,
   "metadata": {},
   "outputs": [
    {
     "name": "stdout",
     "output_type": "stream",
     "text": [
      "Validation Accuracy =  65.68%\n"
     ]
    }
   ],
   "source": [
    "rf_clf = RandomForestClassifier(n_estimators=200)\n",
    "print('Validation Accuracy = ', format(cross_val_score(rf_clf, X_train, y_train, cv=5).mean(), '.2%'))"
   ]
  },
  {
   "cell_type": "code",
   "execution_count": 83,
   "metadata": {},
   "outputs": [
    {
     "name": "stdout",
     "output_type": "stream",
     "text": [
      "Validation Accuracy =  67.06%\n"
     ]
    }
   ],
   "source": [
    "knn_clf = KNeighborsClassifier(n_neighbors=10)\n",
    "print('Validation Accuracy = ', format(cross_val_score(knn_clf, X_train, y_train, cv=5).mean(), '.2%'))"
   ]
  },
  {
   "cell_type": "code",
   "execution_count": 84,
   "metadata": {},
   "outputs": [
    {
     "name": "stdout",
     "output_type": "stream",
     "text": [
      "Validation Accuracy =  47.07%\n"
     ]
    }
   ],
   "source": [
    "mlp_clf = MLPClassifier(hidden_layer_sizes=(15, 10), alpha=3, learning_rate='adaptive', max_iter=100000)\n",
    "print('Validation Accuracy = ', format(cross_val_score(mlp_clf, X_train, y_train, cv=5).mean(), '.2%'))"
   ]
  },
  {
   "cell_type": "markdown",
   "metadata": {},
   "source": [
    "### Tangent: Evaluate feature importances given by Random Forest"
   ]
  },
  {
   "cell_type": "markdown",
   "metadata": {},
   "source": [
    "### Remember:\n",
    "* PTGENDER: (Male, Female)\n",
    "* PTETHCAT: (Hisp/Latino, Not Hisp/Latino, Unknown)\n",
    "* PTRACCAT: (White, Black, Asian)\n",
    "* APOE4: (0, 1, 2)\n",
    "* APOE4 Genotype: (22, 23, 24, 33, 34, 44)\n",
    "* imputed_genotype (True, False)"
   ]
  },
  {
   "cell_type": "code",
   "execution_count": 85,
   "metadata": {},
   "outputs": [
    {
     "data": {
      "text/html": [
       "<style>#sk-container-id-1 {color: black;}#sk-container-id-1 pre{padding: 0;}#sk-container-id-1 div.sk-toggleable {background-color: white;}#sk-container-id-1 label.sk-toggleable__label {cursor: pointer;display: block;width: 100%;margin-bottom: 0;padding: 0.3em;box-sizing: border-box;text-align: center;}#sk-container-id-1 label.sk-toggleable__label-arrow:before {content: \"▸\";float: left;margin-right: 0.25em;color: #696969;}#sk-container-id-1 label.sk-toggleable__label-arrow:hover:before {color: black;}#sk-container-id-1 div.sk-estimator:hover label.sk-toggleable__label-arrow:before {color: black;}#sk-container-id-1 div.sk-toggleable__content {max-height: 0;max-width: 0;overflow: hidden;text-align: left;background-color: #f0f8ff;}#sk-container-id-1 div.sk-toggleable__content pre {margin: 0.2em;color: black;border-radius: 0.25em;background-color: #f0f8ff;}#sk-container-id-1 input.sk-toggleable__control:checked~div.sk-toggleable__content {max-height: 200px;max-width: 100%;overflow: auto;}#sk-container-id-1 input.sk-toggleable__control:checked~label.sk-toggleable__label-arrow:before {content: \"▾\";}#sk-container-id-1 div.sk-estimator input.sk-toggleable__control:checked~label.sk-toggleable__label {background-color: #d4ebff;}#sk-container-id-1 div.sk-label input.sk-toggleable__control:checked~label.sk-toggleable__label {background-color: #d4ebff;}#sk-container-id-1 input.sk-hidden--visually {border: 0;clip: rect(1px 1px 1px 1px);clip: rect(1px, 1px, 1px, 1px);height: 1px;margin: -1px;overflow: hidden;padding: 0;position: absolute;width: 1px;}#sk-container-id-1 div.sk-estimator {font-family: monospace;background-color: #f0f8ff;border: 1px dotted black;border-radius: 0.25em;box-sizing: border-box;margin-bottom: 0.5em;}#sk-container-id-1 div.sk-estimator:hover {background-color: #d4ebff;}#sk-container-id-1 div.sk-parallel-item::after {content: \"\";width: 100%;border-bottom: 1px solid gray;flex-grow: 1;}#sk-container-id-1 div.sk-label:hover label.sk-toggleable__label {background-color: #d4ebff;}#sk-container-id-1 div.sk-serial::before {content: \"\";position: absolute;border-left: 1px solid gray;box-sizing: border-box;top: 0;bottom: 0;left: 50%;z-index: 0;}#sk-container-id-1 div.sk-serial {display: flex;flex-direction: column;align-items: center;background-color: white;padding-right: 0.2em;padding-left: 0.2em;position: relative;}#sk-container-id-1 div.sk-item {position: relative;z-index: 1;}#sk-container-id-1 div.sk-parallel {display: flex;align-items: stretch;justify-content: center;background-color: white;position: relative;}#sk-container-id-1 div.sk-item::before, #sk-container-id-1 div.sk-parallel-item::before {content: \"\";position: absolute;border-left: 1px solid gray;box-sizing: border-box;top: 0;bottom: 0;left: 50%;z-index: -1;}#sk-container-id-1 div.sk-parallel-item {display: flex;flex-direction: column;z-index: 1;position: relative;background-color: white;}#sk-container-id-1 div.sk-parallel-item:first-child::after {align-self: flex-end;width: 50%;}#sk-container-id-1 div.sk-parallel-item:last-child::after {align-self: flex-start;width: 50%;}#sk-container-id-1 div.sk-parallel-item:only-child::after {width: 0;}#sk-container-id-1 div.sk-dashed-wrapped {border: 1px dashed gray;margin: 0 0.4em 0.5em 0.4em;box-sizing: border-box;padding-bottom: 0.4em;background-color: white;}#sk-container-id-1 div.sk-label label {font-family: monospace;font-weight: bold;display: inline-block;line-height: 1.2em;}#sk-container-id-1 div.sk-label-container {text-align: center;}#sk-container-id-1 div.sk-container {/* jupyter's `normalize.less` sets `[hidden] { display: none; }` but bootstrap.min.css set `[hidden] { display: none !important; }` so we also need the `!important` here to be able to override the default hidden behavior on the sphinx rendered scikit-learn.org. See: https://github.com/scikit-learn/scikit-learn/issues/21755 */display: inline-block !important;position: relative;}#sk-container-id-1 div.sk-text-repr-fallback {display: none;}</style><div id=\"sk-container-id-1\" class=\"sk-top-container\"><div class=\"sk-text-repr-fallback\"><pre>RandomForestClassifier(n_estimators=200)</pre><b>In a Jupyter environment, please rerun this cell to show the HTML representation or trust the notebook. <br />On GitHub, the HTML representation is unable to render, please try loading this page with nbviewer.org.</b></div><div class=\"sk-container\" hidden><div class=\"sk-item\"><div class=\"sk-estimator sk-toggleable\"><input class=\"sk-toggleable__control sk-hidden--visually\" id=\"sk-estimator-id-1\" type=\"checkbox\" checked><label for=\"sk-estimator-id-1\" class=\"sk-toggleable__label sk-toggleable__label-arrow\">RandomForestClassifier</label><div class=\"sk-toggleable__content\"><pre>RandomForestClassifier(n_estimators=200)</pre></div></div></div></div></div>"
      ],
      "text/plain": [
       "RandomForestClassifier(n_estimators=200)"
      ]
     },
     "execution_count": 85,
     "metadata": {},
     "output_type": "execute_result"
    }
   ],
   "source": [
    "rf_clf.fit(X_train, y_train)"
   ]
  },
  {
   "cell_type": "code",
   "execution_count": 86,
   "metadata": {},
   "outputs": [
    {
     "name": "stdout",
     "output_type": "stream",
     "text": [
      "          Importance\n",
      "MMSE        0.377471\n",
      "AGE         0.291844\n",
      "PTEDUCAT    0.152709\n",
      "0           0.018761\n",
      "Male        0.018382\n",
      "Female      0.017881\n",
      "True        0.015835\n",
      "False       0.015318\n",
      "3,3         0.011258\n",
      "2,3         0.010967\n"
     ]
    }
   ],
   "source": [
    "# https://towardsdatascience.com/running-random-forests-inspect-the-feature-importances-with-this-code-2b00dd72b92e\n",
    "feature_importances = pd.DataFrame(rf_clf.feature_importances_, index=X_train.columns, \n",
    "                                   columns=['Importance']).sort_values('Importance', ascending=False)\n",
    "print(feature_importances[:10])"
   ]
  },
  {
   "cell_type": "markdown",
   "metadata": {},
   "source": [
    "### Conclusion: Feature Importance\n",
    "* Cognitive test score (MMSE), age (AGE), years of education (PTEDUCAT) are considered the three most important features by far\n",
    "* Interestingly, the genetic information (APOE4 and APOE4 Genotype) was not considered very important by the model"
   ]
  },
  {
   "cell_type": "markdown",
   "metadata": {},
   "source": [
    "## Model Selection"
   ]
  },
  {
   "cell_type": "markdown",
   "metadata": {},
   "source": [
    "### Choosing Logistic Regression\n",
    "* `Validation Score = .69` - unable to take advantage of more complex models, likely due to small data set size"
   ]
  },
  {
   "cell_type": "markdown",
   "metadata": {},
   "source": [
    "### Test Logistic Regression Model\n",
    "* `Test Score = .746` - take with a grain of salt since validation score was `.69`"
   ]
  },
  {
   "cell_type": "code",
   "execution_count": 87,
   "metadata": {},
   "outputs": [
    {
     "name": "stdout",
     "output_type": "stream",
     "text": [
      "Test Accuracy = 73.02%\n"
     ]
    }
   ],
   "source": [
    "log_clf.fit(X_train, y_train)\n",
    "\n",
    "log_clf_preds = log_clf.predict(X_test)\n",
    "    \n",
    "log_clf_accuracy = (log_clf_preds == y_test)\n",
    "print('Test Accuracy =', format( np.sum(log_clf_accuracy)/num_test, '.2%'))"
   ]
  },
  {
   "cell_type": "markdown",
   "metadata": {},
   "source": [
    "### Analyze misclassifications"
   ]
  },
  {
   "cell_type": "code",
   "execution_count": 88,
   "metadata": {},
   "outputs": [
    {
     "data": {
      "text/html": [
       "<div>\n",
       "<style scoped>\n",
       "    .dataframe tbody tr th:only-of-type {\n",
       "        vertical-align: middle;\n",
       "    }\n",
       "\n",
       "    .dataframe tbody tr th {\n",
       "        vertical-align: top;\n",
       "    }\n",
       "\n",
       "    .dataframe thead th {\n",
       "        text-align: right;\n",
       "    }\n",
       "</style>\n",
       "<table border=\"1\" class=\"dataframe\">\n",
       "  <thead>\n",
       "    <tr style=\"text-align: right;\">\n",
       "      <th></th>\n",
       "      <th>AGE</th>\n",
       "      <th>PTEDUCAT</th>\n",
       "      <th>MMSE</th>\n",
       "      <th>False</th>\n",
       "      <th>True</th>\n",
       "      <th>2,2</th>\n",
       "      <th>2,3</th>\n",
       "      <th>2,4</th>\n",
       "      <th>3,3</th>\n",
       "      <th>3,4</th>\n",
       "      <th>...</th>\n",
       "      <th>Black</th>\n",
       "      <th>White</th>\n",
       "      <th>Hisp/Latino</th>\n",
       "      <th>Not Hisp/Latino</th>\n",
       "      <th>Unknown</th>\n",
       "      <th>Female</th>\n",
       "      <th>Male</th>\n",
       "      <th>0</th>\n",
       "      <th>1</th>\n",
       "      <th>2</th>\n",
       "    </tr>\n",
       "  </thead>\n",
       "  <tbody>\n",
       "    <tr>\n",
       "      <th>573</th>\n",
       "      <td>59.9</td>\n",
       "      <td>16</td>\n",
       "      <td>25</td>\n",
       "      <td>False</td>\n",
       "      <td>True</td>\n",
       "      <td>False</td>\n",
       "      <td>False</td>\n",
       "      <td>False</td>\n",
       "      <td>False</td>\n",
       "      <td>True</td>\n",
       "      <td>...</td>\n",
       "      <td>False</td>\n",
       "      <td>True</td>\n",
       "      <td>False</td>\n",
       "      <td>True</td>\n",
       "      <td>False</td>\n",
       "      <td>False</td>\n",
       "      <td>True</td>\n",
       "      <td>False</td>\n",
       "      <td>True</td>\n",
       "      <td>False</td>\n",
       "    </tr>\n",
       "    <tr>\n",
       "      <th>448</th>\n",
       "      <td>78.5</td>\n",
       "      <td>12</td>\n",
       "      <td>26</td>\n",
       "      <td>False</td>\n",
       "      <td>True</td>\n",
       "      <td>False</td>\n",
       "      <td>False</td>\n",
       "      <td>False</td>\n",
       "      <td>False</td>\n",
       "      <td>True</td>\n",
       "      <td>...</td>\n",
       "      <td>False</td>\n",
       "      <td>True</td>\n",
       "      <td>False</td>\n",
       "      <td>True</td>\n",
       "      <td>False</td>\n",
       "      <td>True</td>\n",
       "      <td>False</td>\n",
       "      <td>False</td>\n",
       "      <td>True</td>\n",
       "      <td>False</td>\n",
       "    </tr>\n",
       "    <tr>\n",
       "      <th>341</th>\n",
       "      <td>82.0</td>\n",
       "      <td>16</td>\n",
       "      <td>24</td>\n",
       "      <td>False</td>\n",
       "      <td>True</td>\n",
       "      <td>False</td>\n",
       "      <td>False</td>\n",
       "      <td>False</td>\n",
       "      <td>False</td>\n",
       "      <td>True</td>\n",
       "      <td>...</td>\n",
       "      <td>False</td>\n",
       "      <td>True</td>\n",
       "      <td>False</td>\n",
       "      <td>True</td>\n",
       "      <td>False</td>\n",
       "      <td>True</td>\n",
       "      <td>False</td>\n",
       "      <td>False</td>\n",
       "      <td>True</td>\n",
       "      <td>False</td>\n",
       "    </tr>\n",
       "    <tr>\n",
       "      <th>459</th>\n",
       "      <td>70.7</td>\n",
       "      <td>13</td>\n",
       "      <td>26</td>\n",
       "      <td>False</td>\n",
       "      <td>True</td>\n",
       "      <td>False</td>\n",
       "      <td>False</td>\n",
       "      <td>False</td>\n",
       "      <td>True</td>\n",
       "      <td>False</td>\n",
       "      <td>...</td>\n",
       "      <td>False</td>\n",
       "      <td>True</td>\n",
       "      <td>False</td>\n",
       "      <td>True</td>\n",
       "      <td>False</td>\n",
       "      <td>True</td>\n",
       "      <td>False</td>\n",
       "      <td>True</td>\n",
       "      <td>False</td>\n",
       "      <td>False</td>\n",
       "    </tr>\n",
       "    <tr>\n",
       "      <th>424</th>\n",
       "      <td>70.0</td>\n",
       "      <td>10</td>\n",
       "      <td>28</td>\n",
       "      <td>True</td>\n",
       "      <td>False</td>\n",
       "      <td>False</td>\n",
       "      <td>False</td>\n",
       "      <td>False</td>\n",
       "      <td>True</td>\n",
       "      <td>False</td>\n",
       "      <td>...</td>\n",
       "      <td>False</td>\n",
       "      <td>True</td>\n",
       "      <td>False</td>\n",
       "      <td>True</td>\n",
       "      <td>False</td>\n",
       "      <td>True</td>\n",
       "      <td>False</td>\n",
       "      <td>True</td>\n",
       "      <td>False</td>\n",
       "      <td>False</td>\n",
       "    </tr>\n",
       "  </tbody>\n",
       "</table>\n",
       "<p>5 rows × 22 columns</p>\n",
       "</div>"
      ],
      "text/plain": [
       "      AGE PTEDUCAT MMSE  False   True    2,2    2,3    2,4    3,3    3,4  ...  \\\n",
       "573  59.9       16   25  False   True  False  False  False  False   True  ...   \n",
       "448  78.5       12   26  False   True  False  False  False  False   True  ...   \n",
       "341  82.0       16   24  False   True  False  False  False  False   True  ...   \n",
       "459  70.7       13   26  False   True  False  False  False   True  False  ...   \n",
       "424  70.0       10   28   True  False  False  False  False   True  False  ...   \n",
       "\n",
       "     Black  White  Hisp/Latino  Not Hisp/Latino  Unknown  Female   Male  \\\n",
       "573  False   True        False             True    False   False   True   \n",
       "448  False   True        False             True    False    True  False   \n",
       "341  False   True        False             True    False    True  False   \n",
       "459  False   True        False             True    False    True  False   \n",
       "424  False   True        False             True    False    True  False   \n",
       "\n",
       "         0      1      2  \n",
       "573  False   True  False  \n",
       "448  False   True  False  \n",
       "341  False   True  False  \n",
       "459   True  False  False  \n",
       "424   True  False  False  \n",
       "\n",
       "[5 rows x 22 columns]"
      ]
     },
     "execution_count": 88,
     "metadata": {},
     "output_type": "execute_result"
    }
   ],
   "source": [
    "misclassified_index = (log_clf_preds != y_test)\n",
    "\n",
    "X_misclassified = X_test[misclassified_index]\n",
    "y_misclassified = y_test[misclassified_index]\n",
    "preds_misclassified = log_clf_preds[misclassified_index]\n",
    "\n",
    "X_misclassified.head()"
   ]
  },
  {
   "cell_type": "code",
   "execution_count": 89,
   "metadata": {},
   "outputs": [
    {
     "name": "stdout",
     "output_type": "stream",
     "text": [
      "Pred  Y\n",
      "-----------\n",
      "LMCI  AD\n",
      "LMCI  AD\n",
      "AD    LMCI\n",
      "LMCI  AD\n",
      "LMCI  CN\n",
      "LMCI  CN\n",
      "AD    LMCI\n",
      "LMCI  CN\n",
      "LMCI  CN\n",
      "AD    LMCI\n",
      "LMCI  CN\n",
      "CN    LMCI\n",
      "LMCI  AD\n",
      "LMCI  CN\n",
      "CN    LMCI\n",
      "LMCI  CN\n",
      "AD    LMCI\n",
      "LMCI  CN\n",
      "CN    LMCI\n",
      "LMCI  AD\n",
      "LMCI  AD\n",
      "LMCI  CN\n",
      "CN    LMCI\n",
      "LMCI  AD\n",
      "AD    LMCI\n",
      "LMCI  CN\n",
      "LMCI  AD\n",
      "LMCI  AD\n",
      "CN    LMCI\n",
      "CN    LMCI\n",
      "LMCI  AD\n",
      "CN    LMCI\n",
      "CN    LMCI\n",
      "LMCI  CN\n"
     ]
    }
   ],
   "source": [
    "print('Pred'.ljust(5), 'Y')\n",
    "print('-----------')\n",
    "\n",
    "over_estimate = under_estimate = total_miss = 0\n",
    "for pred, y in zip(preds_misclassified, y_misclassified):\n",
    "    print(pred.ljust(5), y)\n",
    "    \n",
    "    if (y == 'CN' and pred == 'AD') or (y == 'AD' and pred == 'CN'):\n",
    "        total_miss += 1\n",
    "    \n",
    "    if y == 'CN':\n",
    "        over_estimate += 1\n",
    "        \n",
    "    elif y == 'AD':\n",
    "        under_estimate += 1\n",
    "    \n",
    "    # y is 'LMCI'\n",
    "    else:\n",
    "        if pred == 'CN':\n",
    "            under_estimate += 1\n",
    "        elif pred == 'AD':\n",
    "            over_estimate += 1"
   ]
  },
  {
   "cell_type": "code",
   "execution_count": 90,
   "metadata": {},
   "outputs": [
    {
     "name": "stdout",
     "output_type": "stream",
     "text": [
      "Model over-estimated severity of cognitive problems: 16\n",
      "Model under-estimated severity of cognitive problems: 18\n",
      "Model was way off (total miss): 0\n"
     ]
    }
   ],
   "source": [
    "print('Model over-estimated severity of cognitive problems:', over_estimate)\n",
    "print('Model under-estimated severity of cognitive problems:', under_estimate)\n",
    "print('Model was way off (total miss):', total_miss)"
   ]
  },
  {
   "cell_type": "markdown",
   "metadata": {},
   "source": [
    "### Conclusion\n",
    "* Fairly even misclassification, No total misses\n",
    "* Probably want to **lower** `under-estimated`. Would be willing to sacrifice accuracy to get a more conservative model.\n",
    "* e.g. **False Negative:** Predicting cognitively normal (CN) when a patient has Alzheimer's (AD) would be much worse than predicting AD when a patient is normal (CN)."
   ]
  },
  {
   "cell_type": "markdown",
   "metadata": {},
   "source": [
    "### Look at distribution of 3 most important vars: AGE, MMSE, PTEDUCAT in misclassified examples\n",
    "* means for entire dataset = `75, 26.9, 15.6`\n",
    "* distributions looks relatively similar to that of entire data set. No obvious discrepancy "
   ]
  },
  {
   "cell_type": "code",
   "execution_count": 91,
   "metadata": {},
   "outputs": [
    {
     "data": {
      "image/png": "[encoded data removed]",
      "text/plain": [
       "<Figure size 640x480 with 1 Axes>"
      ]
     },
     "metadata": {},
     "output_type": "display_data"
    },
    {
     "name": "stdout",
     "output_type": "stream",
     "text": [
      "count       34\n",
      "unique      33\n",
      "top       72.1\n",
      "freq         2\n",
      "Name: AGE, dtype: object\n"
     ]
    },
    {
     "data": {
      "image/png": "[encoded data removed]",
      "text/plain": [
       "<Figure size 640x480 with 1 Axes>"
      ]
     },
     "metadata": {},
     "output_type": "display_data"
    },
    {
     "name": "stdout",
     "output_type": "stream",
     "text": [
      "count     34\n",
      "unique     7\n",
      "top       28\n",
      "freq       8\n",
      "Name: MMSE, dtype: object\n"
     ]
    },
    {
     "data": {
      "image/png": "[encoded data removed]",
      "text/plain": [
       "<Figure size 640x480 with 1 Axes>"
      ]
     },
     "metadata": {},
     "output_type": "display_data"
    },
    {
     "name": "stdout",
     "output_type": "stream",
     "text": [
      "count     34\n",
      "unique    12\n",
      "top       16\n",
      "freq      10\n",
      "Name: PTEDUCAT, dtype: object\n"
     ]
    }
   ],
   "source": [
    "# DRY unless you're a data scientist\n",
    "for var in ['AGE', 'MMSE', 'PTEDUCAT']:\n",
    "    plt.hist(X_misclassified[var], bins=10)\n",
    "    plt.title(var + ' Distribution')\n",
    "    plt.show()\n",
    "    \n",
    "    # descriptive stats\n",
    "    print(X_misclassified[var].describe())"
   ]
  },
  {
   "cell_type": "markdown",
   "metadata": {},
   "source": [
    "## TODO\n",
    "* Evaluate probability predictions from log regr model\n",
    "* Go back and see if we can remove outliers\n",
    "* Switch to binary classificiation (so map CN, LMCI => Not AD) so we have classes (Not AD, AD) and use `AUC` as metric\n",
    "* Or lower log regr. threshold (e.g. .5 => .4) to minimize # of False Negatives"
   ]
  },
  {
   "cell_type": "code",
   "execution_count": null,
   "metadata": {},
   "outputs": [],
   "source": []
  }
 ],
 "metadata": {
  "kernelspec": {
   "display_name": "Python 3",
   "language": "python",
   "name": "python3"
  },
  "language_info": {
   "codemirror_mode": {
    "name": "ipython",
    "version": 3
   },
   "file_extension": ".py",
   "mimetype": "text/x-python",
   "name": "python",
   "nbconvert_exporter": "python",
   "pygments_lexer": "ipython3",
   "version": "3.12.0"
  }
 },
 "nbformat": 4,
 "nbformat_minor": 2
}
